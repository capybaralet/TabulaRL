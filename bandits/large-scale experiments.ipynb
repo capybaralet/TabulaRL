{
 "metadata": {
  "name": "",
  "signature": "sha256:5d5f867d362b5662320a33da2749f128775e7bdfac68adc53e1bd649af57602f"
 },
 "nbformat": 3,
 "nbformat_minor": 0,
 "worksheets": [
  {
   "cells": [
    {
     "cell_type": "markdown",
     "metadata": {},
     "source": [
      "This notebook defines and dispatches large-scale experiments to be run on the cluster.\n",
      "\n",
      "# Submission Code\n",
      "\n",
      "The code below handles the submission and execution of experiments on the cluster."
     ]
    },
    {
     "cell_type": "code",
     "collapsed": false,
     "input": [
      "import os\n",
      "import random\n",
      "import pickle\n",
      "os.chdir('experiment2/')"
     ],
     "language": "python",
     "metadata": {},
     "outputs": [],
     "prompt_number": 1
    },
    {
     "cell_type": "code",
     "collapsed": false,
     "input": [
      "# login parameters\n",
      "user = 'sfop0669'\n",
      "machine = 'arcus-b.arc.ox.ac.uk'\n",
      "subfolder = '~/experiment2'\n",
      "datadir = '/data/sfop-fhi/sfop0669'"
     ],
     "language": "python",
     "metadata": {},
     "outputs": [],
     "prompt_number": 2
    },
    {
     "cell_type": "code",
     "collapsed": false,
     "input": [
      "# Warning: everything gets run 16 times, once per core\n",
      "def submit(mus, n, cost, policy, params, N):\n",
      "    \"\"\"Submit an experiment to the cluster\"\"\"\n",
      "    assert N % 16 == 0, \"N should be a multiple of 16\"\n",
      "    i = random.randint(1, 1e10)  # random number to prevent collision\n",
      "\n",
      "    # dump python script experiment%d.py\n",
      "    scriptname = 'experiment%d.py' % i\n",
      "    open(scriptname , 'w').write(\"\"\"\n",
      "import pickle\n",
      "import sys\n",
      "import os\n",
      "from bandits import *\n",
      "\n",
      "j = sys.argv[1]  # the id of the core job (e.g. 1-16)\n",
      "output_file = os.path.join(os.environ['DATA'], 'result{6}_%s.pickle' % j)\n",
      "result = runExperiment({0}, {1}, {2}, {3}, {4}, {5})\n",
      "pickle.dump((result, \"{4}\", \"{5}\"), open(output_file, 'w'))\n",
      "\"\"\".format(str(mus), n, cost, policy, N/16, params, i))\n",
      "    submit_sh = \"\"\"\n",
      "scp sbatch-job.sh {user}@{machine}:{subfolder}\n",
      "scp ../bandits.py {user}@{machine}:{subfolder}\n",
      "scp \"{scriptname}\" \"{user}@{machine}:{subfolder}\"\n",
      "rm \"{scriptname}\"\n",
      "ssh {user}@{machine} 'cd {subfolder}; sbatch sbatch-job.sh \"{scriptname}\"'\n",
      "\"\"\".format(user=user, machine=machine, subfolder=subfolder,\n",
      "           scriptname=scriptname)\n",
      "\n",
      "    # execute submit_sh to submit experiment%d.py to the cluster\n",
      "    for line in submit_sh.splitlines():\n",
      "        print(line)\n",
      "        os.system(line)\n",
      "    print('submitted %d calculations' % ((N/16)*16))\n",
      "    return i"
     ],
     "language": "python",
     "metadata": {},
     "outputs": [],
     "prompt_number": 3
    },
    {
     "cell_type": "markdown",
     "metadata": {},
     "source": [
      "# Environments"
     ]
    },
    {
     "cell_type": "code",
     "collapsed": false,
     "input": [
      "environments = [\n",
      "    ([0.8,  0.5], 10000, 50),  # high query cost, pay to identify\n",
      "    ([0.6,  0.5], 10000, 50),  # high query cost, borderline case\n",
      "    ([0.55, 0.5], 10000, 50),  # high query cost, do not identify arms\n",
      "    ([0.7,  0.5, 0.4, 0.4, 0.4, 0.4], 10000, 2),     # medium query cost, pay to identify\n",
      "    ([0.58, 0.5, 0.4, 0.4, 0.4, 0.4], 10000, 2),     # medium query cost, borderline case\n",
      "    ([0.52, 0.5, 0.4, 0.4, 0.4, 0.4], 10000, 2),     # medium query cost, do not identify arms\n",
      "    ([0.6,  0.5, 0.4, 0.4, 0.4, 0.4], 10000, 0.01),  # low query cost, should almost always find the best arm\n",
      "    ([0.54, 0.5, 0.4, 0.4, 0.4, 0.4], 10000, 0.01),  # low query cost, should identify but have to query for more than n^(2/3)\n",
      "]"
     ],
     "language": "python",
     "metadata": {},
     "outputs": [],
     "prompt_number": 4
    },
    {
     "cell_type": "markdown",
     "metadata": {},
     "source": [
      "# Submission\n",
      "\n",
      "Submit batch jobs below. The jobs are run on the cluster asynchronously."
     ]
    },
    {
     "cell_type": "code",
     "collapsed": false,
     "input": [
      "jobs = [] # to fetch the results later"
     ],
     "language": "python",
     "metadata": {},
     "outputs": [],
     "prompt_number": 5
    },
    {
     "cell_type": "code",
     "collapsed": false,
     "input": [
      "# Knowledge gradient policy\n",
      "for (mus, n, cost) in environments:\n",
      "    i = submit(mus, n, cost, 'knowledgeGradientPolicy', '', 1024)\n",
      "    jobs.append(i)"
     ],
     "language": "python",
     "metadata": {},
     "outputs": [
      {
       "output_type": "stream",
       "stream": "stdout",
       "text": [
        "\n",
        "scp sbatch-job.sh sfop0669@arcus-b.arc.ox.ac.uk:~/experiment2\n",
        "scp ../bandits.py sfop0669@arcus-b.arc.ox.ac.uk:~/experiment2"
       ]
      },
      {
       "output_type": "stream",
       "stream": "stdout",
       "text": [
        "\n",
        "scp \"experiment8747482496.py\" \"sfop0669@arcus-b.arc.ox.ac.uk:~/experiment2\""
       ]
      },
      {
       "output_type": "stream",
       "stream": "stdout",
       "text": [
        "\n",
        "rm \"experiment8747482496.py\""
       ]
      },
      {
       "output_type": "stream",
       "stream": "stdout",
       "text": [
        "\n",
        "ssh sfop0669@arcus-b.arc.ox.ac.uk 'cd ~/experiment2; sbatch sbatch-job.sh \"experiment8747482496.py\"'\n",
        "submitted 1024 calculations"
       ]
      },
      {
       "output_type": "stream",
       "stream": "stdout",
       "text": [
        "\n",
        "\n",
        "scp sbatch-job.sh sfop0669@arcus-b.arc.ox.ac.uk:~/experiment2\n",
        "scp ../bandits.py sfop0669@arcus-b.arc.ox.ac.uk:~/experiment2"
       ]
      },
      {
       "output_type": "stream",
       "stream": "stdout",
       "text": [
        "\n",
        "scp \"experiment6048352510.py\" \"sfop0669@arcus-b.arc.ox.ac.uk:~/experiment2\""
       ]
      },
      {
       "output_type": "stream",
       "stream": "stdout",
       "text": [
        "\n",
        "rm \"experiment6048352510.py\""
       ]
      },
      {
       "output_type": "stream",
       "stream": "stdout",
       "text": [
        "\n",
        "ssh sfop0669@arcus-b.arc.ox.ac.uk 'cd ~/experiment2; sbatch sbatch-job.sh \"experiment6048352510.py\"'\n",
        "submitted 1024 calculations"
       ]
      },
      {
       "output_type": "stream",
       "stream": "stdout",
       "text": [
        "\n",
        "\n",
        "scp sbatch-job.sh sfop0669@arcus-b.arc.ox.ac.uk:~/experiment2\n",
        "scp ../bandits.py sfop0669@arcus-b.arc.ox.ac.uk:~/experiment2"
       ]
      },
      {
       "output_type": "stream",
       "stream": "stdout",
       "text": [
        "\n",
        "scp \"experiment9555404248.py\" \"sfop0669@arcus-b.arc.ox.ac.uk:~/experiment2\""
       ]
      },
      {
       "output_type": "stream",
       "stream": "stdout",
       "text": [
        "\n",
        "rm \"experiment9555404248.py\""
       ]
      },
      {
       "output_type": "stream",
       "stream": "stdout",
       "text": [
        "\n",
        "ssh sfop0669@arcus-b.arc.ox.ac.uk 'cd ~/experiment2; sbatch sbatch-job.sh \"experiment9555404248.py\"'\n",
        "submitted 1024 calculations"
       ]
      },
      {
       "output_type": "stream",
       "stream": "stdout",
       "text": [
        "\n",
        "\n",
        "scp sbatch-job.sh sfop0669@arcus-b.arc.ox.ac.uk:~/experiment2\n",
        "scp ../bandits.py sfop0669@arcus-b.arc.ox.ac.uk:~/experiment2"
       ]
      },
      {
       "output_type": "stream",
       "stream": "stdout",
       "text": [
        "\n",
        "scp \"experiment1716263566.py\" \"sfop0669@arcus-b.arc.ox.ac.uk:~/experiment2\""
       ]
      },
      {
       "output_type": "stream",
       "stream": "stdout",
       "text": [
        "\n",
        "rm \"experiment1716263566.py\""
       ]
      },
      {
       "output_type": "stream",
       "stream": "stdout",
       "text": [
        "\n",
        "ssh sfop0669@arcus-b.arc.ox.ac.uk 'cd ~/experiment2; sbatch sbatch-job.sh \"experiment1716263566.py\"'\n",
        "submitted 1024 calculations"
       ]
      },
      {
       "output_type": "stream",
       "stream": "stdout",
       "text": [
        "\n",
        "\n",
        "scp sbatch-job.sh sfop0669@arcus-b.arc.ox.ac.uk:~/experiment2\n",
        "scp ../bandits.py sfop0669@arcus-b.arc.ox.ac.uk:~/experiment2"
       ]
      },
      {
       "output_type": "stream",
       "stream": "stdout",
       "text": [
        "\n",
        "scp \"experiment5330033923.py\" \"sfop0669@arcus-b.arc.ox.ac.uk:~/experiment2\""
       ]
      },
      {
       "output_type": "stream",
       "stream": "stdout",
       "text": [
        "\n",
        "rm \"experiment5330033923.py\""
       ]
      },
      {
       "output_type": "stream",
       "stream": "stdout",
       "text": [
        "\n",
        "ssh sfop0669@arcus-b.arc.ox.ac.uk 'cd ~/experiment2; sbatch sbatch-job.sh \"experiment5330033923.py\"'\n",
        "submitted 1024 calculations"
       ]
      },
      {
       "output_type": "stream",
       "stream": "stdout",
       "text": [
        "\n",
        "\n",
        "scp sbatch-job.sh sfop0669@arcus-b.arc.ox.ac.uk:~/experiment2\n",
        "scp ../bandits.py sfop0669@arcus-b.arc.ox.ac.uk:~/experiment2"
       ]
      },
      {
       "output_type": "stream",
       "stream": "stdout",
       "text": [
        "\n",
        "scp \"experiment3642483154.py\" \"sfop0669@arcus-b.arc.ox.ac.uk:~/experiment2\""
       ]
      },
      {
       "output_type": "stream",
       "stream": "stdout",
       "text": [
        "\n",
        "rm \"experiment3642483154.py\""
       ]
      },
      {
       "output_type": "stream",
       "stream": "stdout",
       "text": [
        "\n",
        "ssh sfop0669@arcus-b.arc.ox.ac.uk 'cd ~/experiment2; sbatch sbatch-job.sh \"experiment3642483154.py\"'\n",
        "submitted 1024 calculations"
       ]
      },
      {
       "output_type": "stream",
       "stream": "stdout",
       "text": [
        "\n",
        "\n",
        "scp sbatch-job.sh sfop0669@arcus-b.arc.ox.ac.uk:~/experiment2\n",
        "scp ../bandits.py sfop0669@arcus-b.arc.ox.ac.uk:~/experiment2"
       ]
      },
      {
       "output_type": "stream",
       "stream": "stdout",
       "text": [
        "\n",
        "scp \"experiment7326454665.py\" \"sfop0669@arcus-b.arc.ox.ac.uk:~/experiment2\""
       ]
      },
      {
       "output_type": "stream",
       "stream": "stdout",
       "text": [
        "\n",
        "rm \"experiment7326454665.py\""
       ]
      },
      {
       "output_type": "stream",
       "stream": "stdout",
       "text": [
        "\n",
        "ssh sfop0669@arcus-b.arc.ox.ac.uk 'cd ~/experiment2; sbatch sbatch-job.sh \"experiment7326454665.py\"'\n",
        "submitted 1024 calculations"
       ]
      },
      {
       "output_type": "stream",
       "stream": "stdout",
       "text": [
        "\n",
        "\n",
        "scp sbatch-job.sh sfop0669@arcus-b.arc.ox.ac.uk:~/experiment2\n",
        "scp ../bandits.py sfop0669@arcus-b.arc.ox.ac.uk:~/experiment2"
       ]
      },
      {
       "output_type": "stream",
       "stream": "stdout",
       "text": [
        "\n",
        "scp \"experiment6719200564.py\" \"sfop0669@arcus-b.arc.ox.ac.uk:~/experiment2\""
       ]
      },
      {
       "output_type": "stream",
       "stream": "stdout",
       "text": [
        "\n",
        "rm \"experiment6719200564.py\""
       ]
      },
      {
       "output_type": "stream",
       "stream": "stdout",
       "text": [
        "\n",
        "ssh sfop0669@arcus-b.arc.ox.ac.uk 'cd ~/experiment2; sbatch sbatch-job.sh \"experiment6719200564.py\"'\n",
        "submitted 1024 calculations"
       ]
      },
      {
       "output_type": "stream",
       "stream": "stdout",
       "text": [
        "\n"
       ]
      }
     ],
     "prompt_number": 7
    },
    {
     "cell_type": "code",
     "collapsed": false,
     "input": [
      "# DMED with commitment when 1 arm is selected\n",
      "for (mus, n, cost) in environments:\n",
      "    i = submit(mus, n, cost, 'DMEDPolicy', '', 1024)\n",
      "    jobs.append(i)"
     ],
     "language": "python",
     "metadata": {},
     "outputs": [
      {
       "output_type": "stream",
       "stream": "stdout",
       "text": [
        "\n",
        "scp sbatch-job.sh sfop0669@arcus-b.arc.ox.ac.uk:~/experiment2\n",
        "scp ../bandits.py sfop0669@arcus-b.arc.ox.ac.uk:~/experiment2"
       ]
      },
      {
       "output_type": "stream",
       "stream": "stdout",
       "text": [
        "\n",
        "scp \"experiment3983422173.py\" \"sfop0669@arcus-b.arc.ox.ac.uk:~/experiment2\""
       ]
      },
      {
       "output_type": "stream",
       "stream": "stdout",
       "text": [
        "\n",
        "rm \"experiment3983422173.py\""
       ]
      },
      {
       "output_type": "stream",
       "stream": "stdout",
       "text": [
        "\n",
        "ssh sfop0669@arcus-b.arc.ox.ac.uk 'cd ~/experiment2; sbatch sbatch-job.sh \"experiment3983422173.py\"'\n",
        "submitted 1024 calculations"
       ]
      },
      {
       "output_type": "stream",
       "stream": "stdout",
       "text": [
        "\n",
        "\n",
        "scp sbatch-job.sh sfop0669@arcus-b.arc.ox.ac.uk:~/experiment2\n",
        "scp ../bandits.py sfop0669@arcus-b.arc.ox.ac.uk:~/experiment2"
       ]
      },
      {
       "output_type": "stream",
       "stream": "stdout",
       "text": [
        "\n",
        "scp \"experiment4699878543.py\" \"sfop0669@arcus-b.arc.ox.ac.uk:~/experiment2\""
       ]
      },
      {
       "output_type": "stream",
       "stream": "stdout",
       "text": [
        "\n",
        "rm \"experiment4699878543.py\""
       ]
      },
      {
       "output_type": "stream",
       "stream": "stdout",
       "text": [
        "\n",
        "ssh sfop0669@arcus-b.arc.ox.ac.uk 'cd ~/experiment2; sbatch sbatch-job.sh \"experiment4699878543.py\"'\n",
        "submitted 1024 calculations"
       ]
      },
      {
       "output_type": "stream",
       "stream": "stdout",
       "text": [
        "\n",
        "\n",
        "scp sbatch-job.sh sfop0669@arcus-b.arc.ox.ac.uk:~/experiment2\n",
        "scp ../bandits.py sfop0669@arcus-b.arc.ox.ac.uk:~/experiment2"
       ]
      },
      {
       "output_type": "stream",
       "stream": "stdout",
       "text": [
        "\n",
        "scp \"experiment7572498663.py\" \"sfop0669@arcus-b.arc.ox.ac.uk:~/experiment2\""
       ]
      },
      {
       "output_type": "stream",
       "stream": "stdout",
       "text": [
        "\n",
        "rm \"experiment7572498663.py\""
       ]
      },
      {
       "output_type": "stream",
       "stream": "stdout",
       "text": [
        "\n",
        "ssh sfop0669@arcus-b.arc.ox.ac.uk 'cd ~/experiment2; sbatch sbatch-job.sh \"experiment7572498663.py\"'\n",
        "submitted 1024 calculations"
       ]
      },
      {
       "output_type": "stream",
       "stream": "stdout",
       "text": [
        "\n",
        "\n",
        "scp sbatch-job.sh sfop0669@arcus-b.arc.ox.ac.uk:~/experiment2\n",
        "scp ../bandits.py sfop0669@arcus-b.arc.ox.ac.uk:~/experiment2"
       ]
      },
      {
       "output_type": "stream",
       "stream": "stdout",
       "text": [
        "\n",
        "scp \"experiment2214427356.py\" \"sfop0669@arcus-b.arc.ox.ac.uk:~/experiment2\""
       ]
      },
      {
       "output_type": "stream",
       "stream": "stdout",
       "text": [
        "\n",
        "rm \"experiment2214427356.py\""
       ]
      },
      {
       "output_type": "stream",
       "stream": "stdout",
       "text": [
        "\n",
        "ssh sfop0669@arcus-b.arc.ox.ac.uk 'cd ~/experiment2; sbatch sbatch-job.sh \"experiment2214427356.py\"'\n",
        "submitted 1024 calculations"
       ]
      },
      {
       "output_type": "stream",
       "stream": "stdout",
       "text": [
        "\n",
        "\n",
        "scp sbatch-job.sh sfop0669@arcus-b.arc.ox.ac.uk:~/experiment2\n",
        "scp ../bandits.py sfop0669@arcus-b.arc.ox.ac.uk:~/experiment2"
       ]
      },
      {
       "output_type": "stream",
       "stream": "stdout",
       "text": [
        "\n",
        "scp \"experiment1504639770.py\" \"sfop0669@arcus-b.arc.ox.ac.uk:~/experiment2\""
       ]
      },
      {
       "output_type": "stream",
       "stream": "stdout",
       "text": [
        "\n",
        "rm \"experiment1504639770.py\""
       ]
      },
      {
       "output_type": "stream",
       "stream": "stdout",
       "text": [
        "\n",
        "ssh sfop0669@arcus-b.arc.ox.ac.uk 'cd ~/experiment2; sbatch sbatch-job.sh \"experiment1504639770.py\"'\n",
        "submitted 1024 calculations"
       ]
      },
      {
       "output_type": "stream",
       "stream": "stdout",
       "text": [
        "\n",
        "\n",
        "scp sbatch-job.sh sfop0669@arcus-b.arc.ox.ac.uk:~/experiment2\n",
        "scp ../bandits.py sfop0669@arcus-b.arc.ox.ac.uk:~/experiment2"
       ]
      },
      {
       "output_type": "stream",
       "stream": "stdout",
       "text": [
        "\n",
        "scp \"experiment8037986236.py\" \"sfop0669@arcus-b.arc.ox.ac.uk:~/experiment2\""
       ]
      },
      {
       "output_type": "stream",
       "stream": "stdout",
       "text": [
        "\n",
        "rm \"experiment8037986236.py\""
       ]
      },
      {
       "output_type": "stream",
       "stream": "stdout",
       "text": [
        "\n",
        "ssh sfop0669@arcus-b.arc.ox.ac.uk 'cd ~/experiment2; sbatch sbatch-job.sh \"experiment8037986236.py\"'\n",
        "submitted 1024 calculations"
       ]
      },
      {
       "output_type": "stream",
       "stream": "stdout",
       "text": [
        "\n",
        "\n",
        "scp sbatch-job.sh sfop0669@arcus-b.arc.ox.ac.uk:~/experiment2\n",
        "scp ../bandits.py sfop0669@arcus-b.arc.ox.ac.uk:~/experiment2"
       ]
      },
      {
       "output_type": "stream",
       "stream": "stdout",
       "text": [
        "\n",
        "scp \"experiment650400056.py\" \"sfop0669@arcus-b.arc.ox.ac.uk:~/experiment2\""
       ]
      },
      {
       "output_type": "stream",
       "stream": "stdout",
       "text": [
        "\n",
        "rm \"experiment650400056.py\""
       ]
      },
      {
       "output_type": "stream",
       "stream": "stdout",
       "text": [
        "\n",
        "ssh sfop0669@arcus-b.arc.ox.ac.uk 'cd ~/experiment2; sbatch sbatch-job.sh \"experiment650400056.py\"'\n",
        "submitted 1024 calculations"
       ]
      },
      {
       "output_type": "stream",
       "stream": "stdout",
       "text": [
        "\n",
        "\n",
        "scp sbatch-job.sh sfop0669@arcus-b.arc.ox.ac.uk:~/experiment2\n",
        "scp ../bandits.py sfop0669@arcus-b.arc.ox.ac.uk:~/experiment2"
       ]
      },
      {
       "output_type": "stream",
       "stream": "stdout",
       "text": [
        "\n",
        "scp \"experiment4452080564.py\" \"sfop0669@arcus-b.arc.ox.ac.uk:~/experiment2\""
       ]
      },
      {
       "output_type": "stream",
       "stream": "stdout",
       "text": [
        "\n",
        "rm \"experiment4452080564.py\""
       ]
      },
      {
       "output_type": "stream",
       "stream": "stdout",
       "text": [
        "\n",
        "ssh sfop0669@arcus-b.arc.ox.ac.uk 'cd ~/experiment2; sbatch sbatch-job.sh \"experiment4452080564.py\"'\n",
        "submitted 1024 calculations"
       ]
      },
      {
       "output_type": "stream",
       "stream": "stdout",
       "text": [
        "\n"
       ]
      }
     ],
     "prompt_number": 8
    },
    {
     "cell_type": "code",
     "collapsed": false,
     "input": [
      "# Query with probability 1/t\n",
      "for (mus, n, cost) in environments:\n",
      "    i = submit(mus, n, cost, 'EpsQueryPolicy', 'alg=DMED', 1024)\n",
      "    jobs.append(i)"
     ],
     "language": "python",
     "metadata": {},
     "outputs": [
      {
       "output_type": "stream",
       "stream": "stdout",
       "text": [
        "\n",
        "scp sbatch-job.sh sfop0669@arcus-b.arc.ox.ac.uk:~/experiment2\n",
        "scp ../bandits.py sfop0669@arcus-b.arc.ox.ac.uk:~/experiment2"
       ]
      },
      {
       "output_type": "stream",
       "stream": "stdout",
       "text": [
        "\n",
        "scp \"experiment2526467890.py\" \"sfop0669@arcus-b.arc.ox.ac.uk:~/experiment2\""
       ]
      },
      {
       "output_type": "stream",
       "stream": "stdout",
       "text": [
        "\n",
        "rm \"experiment2526467890.py\""
       ]
      },
      {
       "output_type": "stream",
       "stream": "stdout",
       "text": [
        "\n",
        "ssh sfop0669@arcus-b.arc.ox.ac.uk 'cd ~/experiment2; sbatch sbatch-job.sh \"experiment2526467890.py\"'\n",
        "submitted 1024 calculations"
       ]
      },
      {
       "output_type": "stream",
       "stream": "stdout",
       "text": [
        "\n",
        "\n",
        "scp sbatch-job.sh sfop0669@arcus-b.arc.ox.ac.uk:~/experiment2\n",
        "scp ../bandits.py sfop0669@arcus-b.arc.ox.ac.uk:~/experiment2"
       ]
      },
      {
       "output_type": "stream",
       "stream": "stdout",
       "text": [
        "\n",
        "scp \"experiment6951369072.py\" \"sfop0669@arcus-b.arc.ox.ac.uk:~/experiment2\""
       ]
      },
      {
       "output_type": "stream",
       "stream": "stdout",
       "text": [
        "\n",
        "rm \"experiment6951369072.py\""
       ]
      },
      {
       "output_type": "stream",
       "stream": "stdout",
       "text": [
        "\n",
        "ssh sfop0669@arcus-b.arc.ox.ac.uk 'cd ~/experiment2; sbatch sbatch-job.sh \"experiment6951369072.py\"'\n",
        "submitted 1024 calculations"
       ]
      },
      {
       "output_type": "stream",
       "stream": "stdout",
       "text": [
        "\n",
        "\n",
        "scp sbatch-job.sh sfop0669@arcus-b.arc.ox.ac.uk:~/experiment2\n",
        "scp ../bandits.py sfop0669@arcus-b.arc.ox.ac.uk:~/experiment2"
       ]
      },
      {
       "output_type": "stream",
       "stream": "stdout",
       "text": [
        "\n",
        "scp \"experiment65602033.py\" \"sfop0669@arcus-b.arc.ox.ac.uk:~/experiment2\""
       ]
      },
      {
       "output_type": "stream",
       "stream": "stdout",
       "text": [
        "\n",
        "rm \"experiment65602033.py\""
       ]
      },
      {
       "output_type": "stream",
       "stream": "stdout",
       "text": [
        "\n",
        "ssh sfop0669@arcus-b.arc.ox.ac.uk 'cd ~/experiment2; sbatch sbatch-job.sh \"experiment65602033.py\"'\n",
        "submitted 1024 calculations"
       ]
      },
      {
       "output_type": "stream",
       "stream": "stdout",
       "text": [
        "\n",
        "\n",
        "scp sbatch-job.sh sfop0669@arcus-b.arc.ox.ac.uk:~/experiment2\n",
        "scp ../bandits.py sfop0669@arcus-b.arc.ox.ac.uk:~/experiment2"
       ]
      },
      {
       "output_type": "stream",
       "stream": "stdout",
       "text": [
        "\n",
        "scp \"experiment2341985441.py\" \"sfop0669@arcus-b.arc.ox.ac.uk:~/experiment2\""
       ]
      },
      {
       "output_type": "stream",
       "stream": "stdout",
       "text": [
        "\n",
        "rm \"experiment2341985441.py\""
       ]
      },
      {
       "output_type": "stream",
       "stream": "stdout",
       "text": [
        "\n",
        "ssh sfop0669@arcus-b.arc.ox.ac.uk 'cd ~/experiment2; sbatch sbatch-job.sh \"experiment2341985441.py\"'\n",
        "submitted 1024 calculations"
       ]
      },
      {
       "output_type": "stream",
       "stream": "stdout",
       "text": [
        "\n",
        "\n",
        "scp sbatch-job.sh sfop0669@arcus-b.arc.ox.ac.uk:~/experiment2\n",
        "scp ../bandits.py sfop0669@arcus-b.arc.ox.ac.uk:~/experiment2"
       ]
      },
      {
       "output_type": "stream",
       "stream": "stdout",
       "text": [
        "\n",
        "scp \"experiment8472570824.py\" \"sfop0669@arcus-b.arc.ox.ac.uk:~/experiment2\""
       ]
      },
      {
       "output_type": "stream",
       "stream": "stdout",
       "text": [
        "\n",
        "rm \"experiment8472570824.py\""
       ]
      },
      {
       "output_type": "stream",
       "stream": "stdout",
       "text": [
        "\n",
        "ssh sfop0669@arcus-b.arc.ox.ac.uk 'cd ~/experiment2; sbatch sbatch-job.sh \"experiment8472570824.py\"'\n",
        "submitted 1024 calculations"
       ]
      },
      {
       "output_type": "stream",
       "stream": "stdout",
       "text": [
        "\n",
        "\n",
        "scp sbatch-job.sh sfop0669@arcus-b.arc.ox.ac.uk:~/experiment2\n",
        "scp ../bandits.py sfop0669@arcus-b.arc.ox.ac.uk:~/experiment2"
       ]
      },
      {
       "output_type": "stream",
       "stream": "stdout",
       "text": [
        "\n",
        "scp \"experiment6459620285.py\" \"sfop0669@arcus-b.arc.ox.ac.uk:~/experiment2\""
       ]
      },
      {
       "output_type": "stream",
       "stream": "stdout",
       "text": [
        "\n",
        "rm \"experiment6459620285.py\""
       ]
      },
      {
       "output_type": "stream",
       "stream": "stdout",
       "text": [
        "\n",
        "ssh sfop0669@arcus-b.arc.ox.ac.uk 'cd ~/experiment2; sbatch sbatch-job.sh \"experiment6459620285.py\"'\n",
        "submitted 1024 calculations"
       ]
      },
      {
       "output_type": "stream",
       "stream": "stdout",
       "text": [
        "\n",
        "\n",
        "scp sbatch-job.sh sfop0669@arcus-b.arc.ox.ac.uk:~/experiment2\n",
        "scp ../bandits.py sfop0669@arcus-b.arc.ox.ac.uk:~/experiment2"
       ]
      },
      {
       "output_type": "stream",
       "stream": "stdout",
       "text": [
        "\n",
        "scp \"experiment7744819294.py\" \"sfop0669@arcus-b.arc.ox.ac.uk:~/experiment2\""
       ]
      },
      {
       "output_type": "stream",
       "stream": "stdout",
       "text": [
        "\n",
        "rm \"experiment7744819294.py\""
       ]
      },
      {
       "output_type": "stream",
       "stream": "stdout",
       "text": [
        "\n",
        "ssh sfop0669@arcus-b.arc.ox.ac.uk 'cd ~/experiment2; sbatch sbatch-job.sh \"experiment7744819294.py\"'\n",
        "submitted 1024 calculations"
       ]
      },
      {
       "output_type": "stream",
       "stream": "stdout",
       "text": [
        "\n",
        "\n",
        "scp sbatch-job.sh sfop0669@arcus-b.arc.ox.ac.uk:~/experiment2\n",
        "scp ../bandits.py sfop0669@arcus-b.arc.ox.ac.uk:~/experiment2"
       ]
      },
      {
       "output_type": "stream",
       "stream": "stdout",
       "text": [
        "\n",
        "scp \"experiment582918161.py\" \"sfop0669@arcus-b.arc.ox.ac.uk:~/experiment2\""
       ]
      },
      {
       "output_type": "stream",
       "stream": "stdout",
       "text": [
        "\n",
        "rm \"experiment582918161.py\""
       ]
      },
      {
       "output_type": "stream",
       "stream": "stdout",
       "text": [
        "\n",
        "ssh sfop0669@arcus-b.arc.ox.ac.uk 'cd ~/experiment2; sbatch sbatch-job.sh \"experiment582918161.py\"'\n",
        "submitted 1024 calculations"
       ]
      },
      {
       "output_type": "stream",
       "stream": "stdout",
       "text": [
        "\n"
       ]
      }
     ],
     "prompt_number": 9
    },
    {
     "cell_type": "code",
     "collapsed": false,
     "input": [
      "# Query whenever doing an exploration move\n",
      "for (mus, n, cost) in environments:\n",
      "    i = submit(mus, n, cost, 'ExpQueryPolicy', 'alg=DMED', 1024)\n",
      "    jobs.append(i)"
     ],
     "language": "python",
     "metadata": {},
     "outputs": [
      {
       "output_type": "stream",
       "stream": "stdout",
       "text": [
        "\n",
        "scp sbatch-job.sh sfop0669@arcus-b.arc.ox.ac.uk:~/experiment2\n",
        "scp ../bandits.py sfop0669@arcus-b.arc.ox.ac.uk:~/experiment2"
       ]
      },
      {
       "output_type": "stream",
       "stream": "stdout",
       "text": [
        "\n",
        "scp \"experiment5773311644.py\" \"sfop0669@arcus-b.arc.ox.ac.uk:~/experiment2\""
       ]
      },
      {
       "output_type": "stream",
       "stream": "stdout",
       "text": [
        "\n",
        "rm \"experiment5773311644.py\""
       ]
      },
      {
       "output_type": "stream",
       "stream": "stdout",
       "text": [
        "\n",
        "ssh sfop0669@arcus-b.arc.ox.ac.uk 'cd ~/experiment2; sbatch sbatch-job.sh \"experiment5773311644.py\"'\n",
        "submitted 1024 calculations"
       ]
      },
      {
       "output_type": "stream",
       "stream": "stdout",
       "text": [
        "\n",
        "\n",
        "scp sbatch-job.sh sfop0669@arcus-b.arc.ox.ac.uk:~/experiment2\n",
        "scp ../bandits.py sfop0669@arcus-b.arc.ox.ac.uk:~/experiment2"
       ]
      },
      {
       "output_type": "stream",
       "stream": "stdout",
       "text": [
        "\n",
        "scp \"experiment5510368890.py\" \"sfop0669@arcus-b.arc.ox.ac.uk:~/experiment2\""
       ]
      },
      {
       "output_type": "stream",
       "stream": "stdout",
       "text": [
        "\n",
        "rm \"experiment5510368890.py\""
       ]
      },
      {
       "output_type": "stream",
       "stream": "stdout",
       "text": [
        "\n",
        "ssh sfop0669@arcus-b.arc.ox.ac.uk 'cd ~/experiment2; sbatch sbatch-job.sh \"experiment5510368890.py\"'\n",
        "submitted 1024 calculations"
       ]
      },
      {
       "output_type": "stream",
       "stream": "stdout",
       "text": [
        "\n",
        "\n",
        "scp sbatch-job.sh sfop0669@arcus-b.arc.ox.ac.uk:~/experiment2\n",
        "scp ../bandits.py sfop0669@arcus-b.arc.ox.ac.uk:~/experiment2"
       ]
      },
      {
       "output_type": "stream",
       "stream": "stdout",
       "text": [
        "\n",
        "scp \"experiment8180593027.py\" \"sfop0669@arcus-b.arc.ox.ac.uk:~/experiment2\""
       ]
      },
      {
       "output_type": "stream",
       "stream": "stdout",
       "text": [
        "\n",
        "rm \"experiment8180593027.py\""
       ]
      },
      {
       "output_type": "stream",
       "stream": "stdout",
       "text": [
        "\n",
        "ssh sfop0669@arcus-b.arc.ox.ac.uk 'cd ~/experiment2; sbatch sbatch-job.sh \"experiment8180593027.py\"'\n",
        "submitted 1024 calculations"
       ]
      },
      {
       "output_type": "stream",
       "stream": "stdout",
       "text": [
        "\n",
        "\n",
        "scp sbatch-job.sh sfop0669@arcus-b.arc.ox.ac.uk:~/experiment2\n",
        "scp ../bandits.py sfop0669@arcus-b.arc.ox.ac.uk:~/experiment2"
       ]
      },
      {
       "output_type": "stream",
       "stream": "stdout",
       "text": [
        "\n",
        "scp \"experiment9252556431.py\" \"sfop0669@arcus-b.arc.ox.ac.uk:~/experiment2\""
       ]
      },
      {
       "output_type": "stream",
       "stream": "stdout",
       "text": [
        "\n",
        "rm \"experiment9252556431.py\""
       ]
      },
      {
       "output_type": "stream",
       "stream": "stdout",
       "text": [
        "\n",
        "ssh sfop0669@arcus-b.arc.ox.ac.uk 'cd ~/experiment2; sbatch sbatch-job.sh \"experiment9252556431.py\"'\n",
        "submitted 1024 calculations"
       ]
      },
      {
       "output_type": "stream",
       "stream": "stdout",
       "text": [
        "\n",
        "\n",
        "scp sbatch-job.sh sfop0669@arcus-b.arc.ox.ac.uk:~/experiment2\n",
        "scp ../bandits.py sfop0669@arcus-b.arc.ox.ac.uk:~/experiment2"
       ]
      },
      {
       "output_type": "stream",
       "stream": "stdout",
       "text": [
        "\n",
        "scp \"experiment231154820.py\" \"sfop0669@arcus-b.arc.ox.ac.uk:~/experiment2\""
       ]
      },
      {
       "output_type": "stream",
       "stream": "stdout",
       "text": [
        "\n",
        "rm \"experiment231154820.py\""
       ]
      },
      {
       "output_type": "stream",
       "stream": "stdout",
       "text": [
        "\n",
        "ssh sfop0669@arcus-b.arc.ox.ac.uk 'cd ~/experiment2; sbatch sbatch-job.sh \"experiment231154820.py\"'\n",
        "submitted 1024 calculations"
       ]
      },
      {
       "output_type": "stream",
       "stream": "stdout",
       "text": [
        "\n",
        "\n",
        "scp sbatch-job.sh sfop0669@arcus-b.arc.ox.ac.uk:~/experiment2\n",
        "scp ../bandits.py sfop0669@arcus-b.arc.ox.ac.uk:~/experiment2"
       ]
      },
      {
       "output_type": "stream",
       "stream": "stdout",
       "text": [
        "\n",
        "scp \"experiment5381117548.py\" \"sfop0669@arcus-b.arc.ox.ac.uk:~/experiment2\""
       ]
      },
      {
       "output_type": "stream",
       "stream": "stdout",
       "text": [
        "\n",
        "rm \"experiment5381117548.py\""
       ]
      },
      {
       "output_type": "stream",
       "stream": "stdout",
       "text": [
        "\n",
        "ssh sfop0669@arcus-b.arc.ox.ac.uk 'cd ~/experiment2; sbatch sbatch-job.sh \"experiment5381117548.py\"'\n",
        "submitted 1024 calculations"
       ]
      },
      {
       "output_type": "stream",
       "stream": "stdout",
       "text": [
        "\n",
        "\n",
        "scp sbatch-job.sh sfop0669@arcus-b.arc.ox.ac.uk:~/experiment2\n",
        "scp ../bandits.py sfop0669@arcus-b.arc.ox.ac.uk:~/experiment2"
       ]
      },
      {
       "output_type": "stream",
       "stream": "stdout",
       "text": [
        "\n",
        "scp \"experiment1546932428.py\" \"sfop0669@arcus-b.arc.ox.ac.uk:~/experiment2\""
       ]
      },
      {
       "output_type": "stream",
       "stream": "stdout",
       "text": [
        "\n",
        "rm \"experiment1546932428.py\""
       ]
      },
      {
       "output_type": "stream",
       "stream": "stdout",
       "text": [
        "\n",
        "ssh sfop0669@arcus-b.arc.ox.ac.uk 'cd ~/experiment2; sbatch sbatch-job.sh \"experiment1546932428.py\"'\n",
        "submitted 1024 calculations"
       ]
      },
      {
       "output_type": "stream",
       "stream": "stdout",
       "text": [
        "\n",
        "\n",
        "scp sbatch-job.sh sfop0669@arcus-b.arc.ox.ac.uk:~/experiment2\n",
        "scp ../bandits.py sfop0669@arcus-b.arc.ox.ac.uk:~/experiment2"
       ]
      },
      {
       "output_type": "stream",
       "stream": "stdout",
       "text": [
        "\n",
        "scp \"experiment1243872230.py\" \"sfop0669@arcus-b.arc.ox.ac.uk:~/experiment2\""
       ]
      },
      {
       "output_type": "stream",
       "stream": "stdout",
       "text": [
        "\n",
        "rm \"experiment1243872230.py\""
       ]
      },
      {
       "output_type": "stream",
       "stream": "stdout",
       "text": [
        "\n",
        "ssh sfop0669@arcus-b.arc.ox.ac.uk 'cd ~/experiment2; sbatch sbatch-job.sh \"experiment1243872230.py\"'\n",
        "submitted 1024 calculations"
       ]
      },
      {
       "output_type": "stream",
       "stream": "stdout",
       "text": [
        "\n"
       ]
      }
     ],
     "prompt_number": 10
    },
    {
     "cell_type": "code",
     "collapsed": false,
     "input": [
      "# parameterized regret query, first parameter sweep\n",
      "alphas = [0.005, 0.075, 0.01, 0.125, 0.15]\n",
      "for mus, n, cost in environments:\n",
      "    for alpha in alphas:\n",
      "        i = submit(mus, n, cost, 'parameterizedRegretQuery', 'banditpolicy=DMED, alpha=' + str(alpha), 128)\n",
      "        jobs.append(i)"
     ],
     "language": "python",
     "metadata": {},
     "outputs": [
      {
       "output_type": "stream",
       "stream": "stdout",
       "text": [
        "\n",
        "scp sbatch-job.sh sfop0669@arcus-b.arc.ox.ac.uk:~/experiment2\n",
        "scp ../bandits.py sfop0669@arcus-b.arc.ox.ac.uk:~/experiment2"
       ]
      },
      {
       "output_type": "stream",
       "stream": "stdout",
       "text": [
        "\n",
        "scp \"experiment3037950709.py\" \"sfop0669@arcus-b.arc.ox.ac.uk:~/experiment2\""
       ]
      },
      {
       "output_type": "stream",
       "stream": "stdout",
       "text": [
        "\n",
        "rm \"experiment3037950709.py\""
       ]
      },
      {
       "output_type": "stream",
       "stream": "stdout",
       "text": [
        "\n",
        "ssh sfop0669@arcus-b.arc.ox.ac.uk 'cd ~/experiment2; sbatch sbatch-job.sh \"experiment3037950709.py\"'\n",
        "submitted 128 calculations"
       ]
      },
      {
       "output_type": "stream",
       "stream": "stdout",
       "text": [
        "\n",
        "\n",
        "scp sbatch-job.sh sfop0669@arcus-b.arc.ox.ac.uk:~/experiment2\n",
        "scp ../bandits.py sfop0669@arcus-b.arc.ox.ac.uk:~/experiment2"
       ]
      },
      {
       "output_type": "stream",
       "stream": "stdout",
       "text": [
        "\n",
        "scp \"experiment6839944784.py\" \"sfop0669@arcus-b.arc.ox.ac.uk:~/experiment2\""
       ]
      },
      {
       "output_type": "stream",
       "stream": "stdout",
       "text": [
        "\n",
        "rm \"experiment6839944784.py\""
       ]
      },
      {
       "output_type": "stream",
       "stream": "stdout",
       "text": [
        "\n",
        "ssh sfop0669@arcus-b.arc.ox.ac.uk 'cd ~/experiment2; sbatch sbatch-job.sh \"experiment6839944784.py\"'\n",
        "submitted 128 calculations"
       ]
      },
      {
       "output_type": "stream",
       "stream": "stdout",
       "text": [
        "\n",
        "\n",
        "scp sbatch-job.sh sfop0669@arcus-b.arc.ox.ac.uk:~/experiment2\n",
        "scp ../bandits.py sfop0669@arcus-b.arc.ox.ac.uk:~/experiment2"
       ]
      },
      {
       "output_type": "stream",
       "stream": "stdout",
       "text": [
        "\n",
        "scp \"experiment2399159523.py\" \"sfop0669@arcus-b.arc.ox.ac.uk:~/experiment2\""
       ]
      },
      {
       "output_type": "stream",
       "stream": "stdout",
       "text": [
        "\n",
        "rm \"experiment2399159523.py\""
       ]
      },
      {
       "output_type": "stream",
       "stream": "stdout",
       "text": [
        "\n",
        "ssh sfop0669@arcus-b.arc.ox.ac.uk 'cd ~/experiment2; sbatch sbatch-job.sh \"experiment2399159523.py\"'\n",
        "submitted 128 calculations"
       ]
      },
      {
       "output_type": "stream",
       "stream": "stdout",
       "text": [
        "\n",
        "\n",
        "scp sbatch-job.sh sfop0669@arcus-b.arc.ox.ac.uk:~/experiment2\n",
        "scp ../bandits.py sfop0669@arcus-b.arc.ox.ac.uk:~/experiment2"
       ]
      },
      {
       "output_type": "stream",
       "stream": "stdout",
       "text": [
        "\n",
        "scp \"experiment602402452.py\" \"sfop0669@arcus-b.arc.ox.ac.uk:~/experiment2\""
       ]
      },
      {
       "output_type": "stream",
       "stream": "stdout",
       "text": [
        "\n",
        "rm \"experiment602402452.py\""
       ]
      },
      {
       "output_type": "stream",
       "stream": "stdout",
       "text": [
        "\n",
        "ssh sfop0669@arcus-b.arc.ox.ac.uk 'cd ~/experiment2; sbatch sbatch-job.sh \"experiment602402452.py\"'\n",
        "submitted 128 calculations"
       ]
      },
      {
       "output_type": "stream",
       "stream": "stdout",
       "text": [
        "\n",
        "\n",
        "scp sbatch-job.sh sfop0669@arcus-b.arc.ox.ac.uk:~/experiment2\n",
        "scp ../bandits.py sfop0669@arcus-b.arc.ox.ac.uk:~/experiment2"
       ]
      },
      {
       "output_type": "stream",
       "stream": "stdout",
       "text": [
        "\n",
        "scp \"experiment9309305176.py\" \"sfop0669@arcus-b.arc.ox.ac.uk:~/experiment2\""
       ]
      },
      {
       "output_type": "stream",
       "stream": "stdout",
       "text": [
        "\n",
        "rm \"experiment9309305176.py\""
       ]
      },
      {
       "output_type": "stream",
       "stream": "stdout",
       "text": [
        "\n",
        "ssh sfop0669@arcus-b.arc.ox.ac.uk 'cd ~/experiment2; sbatch sbatch-job.sh \"experiment9309305176.py\"'\n",
        "submitted 128 calculations"
       ]
      },
      {
       "output_type": "stream",
       "stream": "stdout",
       "text": [
        "\n",
        "\n",
        "scp sbatch-job.sh sfop0669@arcus-b.arc.ox.ac.uk:~/experiment2\n",
        "scp ../bandits.py sfop0669@arcus-b.arc.ox.ac.uk:~/experiment2"
       ]
      },
      {
       "output_type": "stream",
       "stream": "stdout",
       "text": [
        "\n",
        "scp \"experiment1057005055.py\" \"sfop0669@arcus-b.arc.ox.ac.uk:~/experiment2\""
       ]
      },
      {
       "output_type": "stream",
       "stream": "stdout",
       "text": [
        "\n",
        "rm \"experiment1057005055.py\""
       ]
      },
      {
       "output_type": "stream",
       "stream": "stdout",
       "text": [
        "\n",
        "ssh sfop0669@arcus-b.arc.ox.ac.uk 'cd ~/experiment2; sbatch sbatch-job.sh \"experiment1057005055.py\"'\n",
        "submitted 128 calculations"
       ]
      },
      {
       "output_type": "stream",
       "stream": "stdout",
       "text": [
        "\n",
        "\n",
        "scp sbatch-job.sh sfop0669@arcus-b.arc.ox.ac.uk:~/experiment2\n",
        "scp ../bandits.py sfop0669@arcus-b.arc.ox.ac.uk:~/experiment2"
       ]
      },
      {
       "output_type": "stream",
       "stream": "stdout",
       "text": [
        "\n",
        "scp \"experiment4330097932.py\" \"sfop0669@arcus-b.arc.ox.ac.uk:~/experiment2\""
       ]
      },
      {
       "output_type": "stream",
       "stream": "stdout",
       "text": [
        "\n",
        "rm \"experiment4330097932.py\""
       ]
      },
      {
       "output_type": "stream",
       "stream": "stdout",
       "text": [
        "\n",
        "ssh sfop0669@arcus-b.arc.ox.ac.uk 'cd ~/experiment2; sbatch sbatch-job.sh \"experiment4330097932.py\"'\n",
        "submitted 128 calculations"
       ]
      },
      {
       "output_type": "stream",
       "stream": "stdout",
       "text": [
        "\n",
        "\n",
        "scp sbatch-job.sh sfop0669@arcus-b.arc.ox.ac.uk:~/experiment2\n",
        "scp ../bandits.py sfop0669@arcus-b.arc.ox.ac.uk:~/experiment2"
       ]
      },
      {
       "output_type": "stream",
       "stream": "stdout",
       "text": [
        "\n",
        "scp \"experiment6260303733.py\" \"sfop0669@arcus-b.arc.ox.ac.uk:~/experiment2\""
       ]
      },
      {
       "output_type": "stream",
       "stream": "stdout",
       "text": [
        "\n",
        "rm \"experiment6260303733.py\""
       ]
      },
      {
       "output_type": "stream",
       "stream": "stdout",
       "text": [
        "\n",
        "ssh sfop0669@arcus-b.arc.ox.ac.uk 'cd ~/experiment2; sbatch sbatch-job.sh \"experiment6260303733.py\"'\n",
        "submitted 128 calculations"
       ]
      },
      {
       "output_type": "stream",
       "stream": "stdout",
       "text": [
        "\n",
        "\n",
        "scp sbatch-job.sh sfop0669@arcus-b.arc.ox.ac.uk:~/experiment2\n",
        "scp ../bandits.py sfop0669@arcus-b.arc.ox.ac.uk:~/experiment2"
       ]
      },
      {
       "output_type": "stream",
       "stream": "stdout",
       "text": [
        "\n",
        "scp \"experiment7524445118.py\" \"sfop0669@arcus-b.arc.ox.ac.uk:~/experiment2\""
       ]
      },
      {
       "output_type": "stream",
       "stream": "stdout",
       "text": [
        "\n",
        "rm \"experiment7524445118.py\""
       ]
      },
      {
       "output_type": "stream",
       "stream": "stdout",
       "text": [
        "\n",
        "ssh sfop0669@arcus-b.arc.ox.ac.uk 'cd ~/experiment2; sbatch sbatch-job.sh \"experiment7524445118.py\"'\n",
        "submitted 128 calculations"
       ]
      },
      {
       "output_type": "stream",
       "stream": "stdout",
       "text": [
        "\n",
        "\n",
        "scp sbatch-job.sh sfop0669@arcus-b.arc.ox.ac.uk:~/experiment2\n",
        "scp ../bandits.py sfop0669@arcus-b.arc.ox.ac.uk:~/experiment2"
       ]
      },
      {
       "output_type": "stream",
       "stream": "stdout",
       "text": [
        "\n",
        "scp \"experiment5799914693.py\" \"sfop0669@arcus-b.arc.ox.ac.uk:~/experiment2\""
       ]
      },
      {
       "output_type": "stream",
       "stream": "stdout",
       "text": [
        "\n",
        "rm \"experiment5799914693.py\""
       ]
      },
      {
       "output_type": "stream",
       "stream": "stdout",
       "text": [
        "\n",
        "ssh sfop0669@arcus-b.arc.ox.ac.uk 'cd ~/experiment2; sbatch sbatch-job.sh \"experiment5799914693.py\"'\n",
        "submitted 128 calculations"
       ]
      },
      {
       "output_type": "stream",
       "stream": "stdout",
       "text": [
        "\n",
        "\n",
        "scp sbatch-job.sh sfop0669@arcus-b.arc.ox.ac.uk:~/experiment2\n",
        "scp ../bandits.py sfop0669@arcus-b.arc.ox.ac.uk:~/experiment2"
       ]
      },
      {
       "output_type": "stream",
       "stream": "stdout",
       "text": [
        "\n",
        "scp \"experiment7420783826.py\" \"sfop0669@arcus-b.arc.ox.ac.uk:~/experiment2\""
       ]
      },
      {
       "output_type": "stream",
       "stream": "stdout",
       "text": [
        "\n",
        "rm \"experiment7420783826.py\""
       ]
      },
      {
       "output_type": "stream",
       "stream": "stdout",
       "text": [
        "\n",
        "ssh sfop0669@arcus-b.arc.ox.ac.uk 'cd ~/experiment2; sbatch sbatch-job.sh \"experiment7420783826.py\"'\n",
        "submitted 128 calculations"
       ]
      },
      {
       "output_type": "stream",
       "stream": "stdout",
       "text": [
        "\n",
        "\n",
        "scp sbatch-job.sh sfop0669@arcus-b.arc.ox.ac.uk:~/experiment2\n",
        "scp ../bandits.py sfop0669@arcus-b.arc.ox.ac.uk:~/experiment2"
       ]
      },
      {
       "output_type": "stream",
       "stream": "stdout",
       "text": [
        "\n",
        "scp \"experiment4685761178.py\" \"sfop0669@arcus-b.arc.ox.ac.uk:~/experiment2\""
       ]
      },
      {
       "output_type": "stream",
       "stream": "stdout",
       "text": [
        "\n",
        "rm \"experiment4685761178.py\""
       ]
      },
      {
       "output_type": "stream",
       "stream": "stdout",
       "text": [
        "\n",
        "ssh sfop0669@arcus-b.arc.ox.ac.uk 'cd ~/experiment2; sbatch sbatch-job.sh \"experiment4685761178.py\"'\n",
        "submitted 128 calculations"
       ]
      },
      {
       "output_type": "stream",
       "stream": "stdout",
       "text": [
        "\n",
        "\n",
        "scp sbatch-job.sh sfop0669@arcus-b.arc.ox.ac.uk:~/experiment2\n",
        "scp ../bandits.py sfop0669@arcus-b.arc.ox.ac.uk:~/experiment2"
       ]
      },
      {
       "output_type": "stream",
       "stream": "stdout",
       "text": [
        "\n",
        "scp \"experiment9902364936.py\" \"sfop0669@arcus-b.arc.ox.ac.uk:~/experiment2\""
       ]
      },
      {
       "output_type": "stream",
       "stream": "stdout",
       "text": [
        "\n",
        "rm \"experiment9902364936.py\""
       ]
      },
      {
       "output_type": "stream",
       "stream": "stdout",
       "text": [
        "\n",
        "ssh sfop0669@arcus-b.arc.ox.ac.uk 'cd ~/experiment2; sbatch sbatch-job.sh \"experiment9902364936.py\"'\n",
        "submitted 128 calculations"
       ]
      },
      {
       "output_type": "stream",
       "stream": "stdout",
       "text": [
        "\n",
        "\n",
        "scp sbatch-job.sh sfop0669@arcus-b.arc.ox.ac.uk:~/experiment2\n",
        "scp ../bandits.py sfop0669@arcus-b.arc.ox.ac.uk:~/experiment2"
       ]
      },
      {
       "output_type": "stream",
       "stream": "stdout",
       "text": [
        "\n",
        "scp \"experiment1000657749.py\" \"sfop0669@arcus-b.arc.ox.ac.uk:~/experiment2\""
       ]
      },
      {
       "output_type": "stream",
       "stream": "stdout",
       "text": [
        "\n",
        "rm \"experiment1000657749.py\""
       ]
      },
      {
       "output_type": "stream",
       "stream": "stdout",
       "text": [
        "\n",
        "ssh sfop0669@arcus-b.arc.ox.ac.uk 'cd ~/experiment2; sbatch sbatch-job.sh \"experiment1000657749.py\"'\n",
        "submitted 128 calculations"
       ]
      },
      {
       "output_type": "stream",
       "stream": "stdout",
       "text": [
        "\n",
        "\n",
        "scp sbatch-job.sh sfop0669@arcus-b.arc.ox.ac.uk:~/experiment2\n",
        "scp ../bandits.py sfop0669@arcus-b.arc.ox.ac.uk:~/experiment2"
       ]
      },
      {
       "output_type": "stream",
       "stream": "stdout",
       "text": [
        "\n",
        "scp \"experiment7850825568.py\" \"sfop0669@arcus-b.arc.ox.ac.uk:~/experiment2\""
       ]
      },
      {
       "output_type": "stream",
       "stream": "stdout",
       "text": [
        "\n",
        "rm \"experiment7850825568.py\""
       ]
      },
      {
       "output_type": "stream",
       "stream": "stdout",
       "text": [
        "\n",
        "ssh sfop0669@arcus-b.arc.ox.ac.uk 'cd ~/experiment2; sbatch sbatch-job.sh \"experiment7850825568.py\"'\n",
        "submitted 128 calculations"
       ]
      },
      {
       "output_type": "stream",
       "stream": "stdout",
       "text": [
        "\n",
        "\n",
        "scp sbatch-job.sh sfop0669@arcus-b.arc.ox.ac.uk:~/experiment2\n",
        "scp ../bandits.py sfop0669@arcus-b.arc.ox.ac.uk:~/experiment2"
       ]
      },
      {
       "output_type": "stream",
       "stream": "stdout",
       "text": [
        "\n",
        "scp \"experiment7493981527.py\" \"sfop0669@arcus-b.arc.ox.ac.uk:~/experiment2\""
       ]
      },
      {
       "output_type": "stream",
       "stream": "stdout",
       "text": [
        "\n",
        "rm \"experiment7493981527.py\""
       ]
      },
      {
       "output_type": "stream",
       "stream": "stdout",
       "text": [
        "\n",
        "ssh sfop0669@arcus-b.arc.ox.ac.uk 'cd ~/experiment2; sbatch sbatch-job.sh \"experiment7493981527.py\"'\n",
        "submitted 128 calculations"
       ]
      },
      {
       "output_type": "stream",
       "stream": "stdout",
       "text": [
        "\n",
        "\n",
        "scp sbatch-job.sh sfop0669@arcus-b.arc.ox.ac.uk:~/experiment2\n",
        "scp ../bandits.py sfop0669@arcus-b.arc.ox.ac.uk:~/experiment2"
       ]
      },
      {
       "output_type": "stream",
       "stream": "stdout",
       "text": [
        "\n",
        "scp \"experiment1357402608.py\" \"sfop0669@arcus-b.arc.ox.ac.uk:~/experiment2\""
       ]
      },
      {
       "output_type": "stream",
       "stream": "stdout",
       "text": [
        "\n",
        "rm \"experiment1357402608.py\""
       ]
      },
      {
       "output_type": "stream",
       "stream": "stdout",
       "text": [
        "\n",
        "ssh sfop0669@arcus-b.arc.ox.ac.uk 'cd ~/experiment2; sbatch sbatch-job.sh \"experiment1357402608.py\"'\n",
        "submitted 128 calculations"
       ]
      },
      {
       "output_type": "stream",
       "stream": "stdout",
       "text": [
        "\n",
        "\n",
        "scp sbatch-job.sh sfop0669@arcus-b.arc.ox.ac.uk:~/experiment2\n",
        "scp ../bandits.py sfop0669@arcus-b.arc.ox.ac.uk:~/experiment2"
       ]
      },
      {
       "output_type": "stream",
       "stream": "stdout",
       "text": [
        "\n",
        "scp \"experiment45318195.py\" \"sfop0669@arcus-b.arc.ox.ac.uk:~/experiment2\""
       ]
      },
      {
       "output_type": "stream",
       "stream": "stdout",
       "text": [
        "\n",
        "rm \"experiment45318195.py\""
       ]
      },
      {
       "output_type": "stream",
       "stream": "stdout",
       "text": [
        "\n",
        "ssh sfop0669@arcus-b.arc.ox.ac.uk 'cd ~/experiment2; sbatch sbatch-job.sh \"experiment45318195.py\"'\n",
        "submitted 128 calculations"
       ]
      },
      {
       "output_type": "stream",
       "stream": "stdout",
       "text": [
        "\n",
        "\n",
        "scp sbatch-job.sh sfop0669@arcus-b.arc.ox.ac.uk:~/experiment2\n",
        "scp ../bandits.py sfop0669@arcus-b.arc.ox.ac.uk:~/experiment2"
       ]
      },
      {
       "output_type": "stream",
       "stream": "stdout",
       "text": [
        "\n",
        "scp \"experiment3803916733.py\" \"sfop0669@arcus-b.arc.ox.ac.uk:~/experiment2\""
       ]
      },
      {
       "output_type": "stream",
       "stream": "stdout",
       "text": [
        "\n",
        "rm \"experiment3803916733.py\""
       ]
      },
      {
       "output_type": "stream",
       "stream": "stdout",
       "text": [
        "\n",
        "ssh sfop0669@arcus-b.arc.ox.ac.uk 'cd ~/experiment2; sbatch sbatch-job.sh \"experiment3803916733.py\"'\n",
        "submitted 128 calculations"
       ]
      },
      {
       "output_type": "stream",
       "stream": "stdout",
       "text": [
        "\n",
        "\n",
        "scp sbatch-job.sh sfop0669@arcus-b.arc.ox.ac.uk:~/experiment2\n",
        "scp ../bandits.py sfop0669@arcus-b.arc.ox.ac.uk:~/experiment2"
       ]
      },
      {
       "output_type": "stream",
       "stream": "stdout",
       "text": [
        "\n",
        "scp \"experiment3328487897.py\" \"sfop0669@arcus-b.arc.ox.ac.uk:~/experiment2\""
       ]
      },
      {
       "output_type": "stream",
       "stream": "stdout",
       "text": [
        "\n",
        "rm \"experiment3328487897.py\""
       ]
      },
      {
       "output_type": "stream",
       "stream": "stdout",
       "text": [
        "\n",
        "ssh sfop0669@arcus-b.arc.ox.ac.uk 'cd ~/experiment2; sbatch sbatch-job.sh \"experiment3328487897.py\"'\n",
        "submitted 128 calculations"
       ]
      },
      {
       "output_type": "stream",
       "stream": "stdout",
       "text": [
        "\n",
        "\n",
        "scp sbatch-job.sh sfop0669@arcus-b.arc.ox.ac.uk:~/experiment2\n",
        "scp ../bandits.py sfop0669@arcus-b.arc.ox.ac.uk:~/experiment2"
       ]
      },
      {
       "output_type": "stream",
       "stream": "stdout",
       "text": [
        "\n",
        "scp \"experiment9828462552.py\" \"sfop0669@arcus-b.arc.ox.ac.uk:~/experiment2\""
       ]
      },
      {
       "output_type": "stream",
       "stream": "stdout",
       "text": [
        "\n",
        "rm \"experiment9828462552.py\""
       ]
      },
      {
       "output_type": "stream",
       "stream": "stdout",
       "text": [
        "\n",
        "ssh sfop0669@arcus-b.arc.ox.ac.uk 'cd ~/experiment2; sbatch sbatch-job.sh \"experiment9828462552.py\"'\n",
        "submitted 128 calculations"
       ]
      },
      {
       "output_type": "stream",
       "stream": "stdout",
       "text": [
        "\n",
        "\n",
        "scp sbatch-job.sh sfop0669@arcus-b.arc.ox.ac.uk:~/experiment2\n",
        "scp ../bandits.py sfop0669@arcus-b.arc.ox.ac.uk:~/experiment2"
       ]
      },
      {
       "output_type": "stream",
       "stream": "stdout",
       "text": [
        "\n",
        "scp \"experiment9260082874.py\" \"sfop0669@arcus-b.arc.ox.ac.uk:~/experiment2\""
       ]
      },
      {
       "output_type": "stream",
       "stream": "stdout",
       "text": [
        "\n",
        "rm \"experiment9260082874.py\""
       ]
      },
      {
       "output_type": "stream",
       "stream": "stdout",
       "text": [
        "\n",
        "ssh sfop0669@arcus-b.arc.ox.ac.uk 'cd ~/experiment2; sbatch sbatch-job.sh \"experiment9260082874.py\"'\n",
        "submitted 128 calculations"
       ]
      },
      {
       "output_type": "stream",
       "stream": "stdout",
       "text": [
        "\n",
        "\n",
        "scp sbatch-job.sh sfop0669@arcus-b.arc.ox.ac.uk:~/experiment2\n",
        "scp ../bandits.py sfop0669@arcus-b.arc.ox.ac.uk:~/experiment2"
       ]
      },
      {
       "output_type": "stream",
       "stream": "stdout",
       "text": [
        "\n",
        "scp \"experiment9235066776.py\" \"sfop0669@arcus-b.arc.ox.ac.uk:~/experiment2\""
       ]
      },
      {
       "output_type": "stream",
       "stream": "stdout",
       "text": [
        "\n",
        "rm \"experiment9235066776.py\""
       ]
      },
      {
       "output_type": "stream",
       "stream": "stdout",
       "text": [
        "\n",
        "ssh sfop0669@arcus-b.arc.ox.ac.uk 'cd ~/experiment2; sbatch sbatch-job.sh \"experiment9235066776.py\"'\n",
        "submitted 128 calculations"
       ]
      },
      {
       "output_type": "stream",
       "stream": "stdout",
       "text": [
        "\n",
        "\n",
        "scp sbatch-job.sh sfop0669@arcus-b.arc.ox.ac.uk:~/experiment2\n",
        "scp ../bandits.py sfop0669@arcus-b.arc.ox.ac.uk:~/experiment2"
       ]
      },
      {
       "output_type": "stream",
       "stream": "stdout",
       "text": [
        "\n",
        "scp \"experiment4297085838.py\" \"sfop0669@arcus-b.arc.ox.ac.uk:~/experiment2\""
       ]
      },
      {
       "output_type": "stream",
       "stream": "stdout",
       "text": [
        "\n",
        "rm \"experiment4297085838.py\""
       ]
      },
      {
       "output_type": "stream",
       "stream": "stdout",
       "text": [
        "\n",
        "ssh sfop0669@arcus-b.arc.ox.ac.uk 'cd ~/experiment2; sbatch sbatch-job.sh \"experiment4297085838.py\"'\n",
        "submitted 128 calculations"
       ]
      },
      {
       "output_type": "stream",
       "stream": "stdout",
       "text": [
        "\n",
        "\n",
        "scp sbatch-job.sh sfop0669@arcus-b.arc.ox.ac.uk:~/experiment2\n",
        "scp ../bandits.py sfop0669@arcus-b.arc.ox.ac.uk:~/experiment2"
       ]
      },
      {
       "output_type": "stream",
       "stream": "stdout",
       "text": [
        "\n",
        "scp \"experiment3503256846.py\" \"sfop0669@arcus-b.arc.ox.ac.uk:~/experiment2\""
       ]
      },
      {
       "output_type": "stream",
       "stream": "stdout",
       "text": [
        "\n",
        "rm \"experiment3503256846.py\""
       ]
      },
      {
       "output_type": "stream",
       "stream": "stdout",
       "text": [
        "\n",
        "ssh sfop0669@arcus-b.arc.ox.ac.uk 'cd ~/experiment2; sbatch sbatch-job.sh \"experiment3503256846.py\"'\n",
        "submitted 128 calculations"
       ]
      },
      {
       "output_type": "stream",
       "stream": "stdout",
       "text": [
        "\n",
        "\n",
        "scp sbatch-job.sh sfop0669@arcus-b.arc.ox.ac.uk:~/experiment2\n",
        "scp ../bandits.py sfop0669@arcus-b.arc.ox.ac.uk:~/experiment2"
       ]
      },
      {
       "output_type": "stream",
       "stream": "stdout",
       "text": [
        "\n",
        "scp \"experiment6535899394.py\" \"sfop0669@arcus-b.arc.ox.ac.uk:~/experiment2\""
       ]
      },
      {
       "output_type": "stream",
       "stream": "stdout",
       "text": [
        "\n",
        "rm \"experiment6535899394.py\""
       ]
      },
      {
       "output_type": "stream",
       "stream": "stdout",
       "text": [
        "\n",
        "ssh sfop0669@arcus-b.arc.ox.ac.uk 'cd ~/experiment2; sbatch sbatch-job.sh \"experiment6535899394.py\"'\n",
        "submitted 128 calculations"
       ]
      },
      {
       "output_type": "stream",
       "stream": "stdout",
       "text": [
        "\n",
        "\n",
        "scp sbatch-job.sh sfop0669@arcus-b.arc.ox.ac.uk:~/experiment2\n",
        "scp ../bandits.py sfop0669@arcus-b.arc.ox.ac.uk:~/experiment2"
       ]
      },
      {
       "output_type": "stream",
       "stream": "stdout",
       "text": [
        "\n",
        "scp \"experiment5545016401.py\" \"sfop0669@arcus-b.arc.ox.ac.uk:~/experiment2\""
       ]
      },
      {
       "output_type": "stream",
       "stream": "stdout",
       "text": [
        "\n",
        "rm \"experiment5545016401.py\""
       ]
      },
      {
       "output_type": "stream",
       "stream": "stdout",
       "text": [
        "\n",
        "ssh sfop0669@arcus-b.arc.ox.ac.uk 'cd ~/experiment2; sbatch sbatch-job.sh \"experiment5545016401.py\"'\n",
        "submitted 128 calculations"
       ]
      },
      {
       "output_type": "stream",
       "stream": "stdout",
       "text": [
        "\n",
        "\n",
        "scp sbatch-job.sh sfop0669@arcus-b.arc.ox.ac.uk:~/experiment2\n",
        "scp ../bandits.py sfop0669@arcus-b.arc.ox.ac.uk:~/experiment2"
       ]
      },
      {
       "output_type": "stream",
       "stream": "stdout",
       "text": [
        "\n",
        "scp \"experiment3166774446.py\" \"sfop0669@arcus-b.arc.ox.ac.uk:~/experiment2\""
       ]
      },
      {
       "output_type": "stream",
       "stream": "stdout",
       "text": [
        "\n",
        "rm \"experiment3166774446.py\""
       ]
      },
      {
       "output_type": "stream",
       "stream": "stdout",
       "text": [
        "\n",
        "ssh sfop0669@arcus-b.arc.ox.ac.uk 'cd ~/experiment2; sbatch sbatch-job.sh \"experiment3166774446.py\"'\n",
        "submitted 128 calculations"
       ]
      },
      {
       "output_type": "stream",
       "stream": "stdout",
       "text": [
        "\n",
        "\n",
        "scp sbatch-job.sh sfop0669@arcus-b.arc.ox.ac.uk:~/experiment2\n",
        "scp ../bandits.py sfop0669@arcus-b.arc.ox.ac.uk:~/experiment2"
       ]
      },
      {
       "output_type": "stream",
       "stream": "stdout",
       "text": [
        "\n",
        "scp \"experiment8586346408.py\" \"sfop0669@arcus-b.arc.ox.ac.uk:~/experiment2\""
       ]
      },
      {
       "output_type": "stream",
       "stream": "stdout",
       "text": [
        "\n",
        "rm \"experiment8586346408.py\""
       ]
      },
      {
       "output_type": "stream",
       "stream": "stdout",
       "text": [
        "\n",
        "ssh sfop0669@arcus-b.arc.ox.ac.uk 'cd ~/experiment2; sbatch sbatch-job.sh \"experiment8586346408.py\"'\n",
        "submitted 128 calculations"
       ]
      },
      {
       "output_type": "stream",
       "stream": "stdout",
       "text": [
        "\n",
        "\n",
        "scp sbatch-job.sh sfop0669@arcus-b.arc.ox.ac.uk:~/experiment2\n",
        "scp ../bandits.py sfop0669@arcus-b.arc.ox.ac.uk:~/experiment2"
       ]
      },
      {
       "output_type": "stream",
       "stream": "stdout",
       "text": [
        "\n",
        "scp \"experiment458376875.py\" \"sfop0669@arcus-b.arc.ox.ac.uk:~/experiment2\""
       ]
      },
      {
       "output_type": "stream",
       "stream": "stdout",
       "text": [
        "\n",
        "rm \"experiment458376875.py\""
       ]
      },
      {
       "output_type": "stream",
       "stream": "stdout",
       "text": [
        "\n",
        "ssh sfop0669@arcus-b.arc.ox.ac.uk 'cd ~/experiment2; sbatch sbatch-job.sh \"experiment458376875.py\"'\n",
        "submitted 128 calculations"
       ]
      },
      {
       "output_type": "stream",
       "stream": "stdout",
       "text": [
        "\n",
        "\n",
        "scp sbatch-job.sh sfop0669@arcus-b.arc.ox.ac.uk:~/experiment2\n",
        "scp ../bandits.py sfop0669@arcus-b.arc.ox.ac.uk:~/experiment2"
       ]
      },
      {
       "output_type": "stream",
       "stream": "stdout",
       "text": [
        "\n",
        "scp \"experiment3230739528.py\" \"sfop0669@arcus-b.arc.ox.ac.uk:~/experiment2\""
       ]
      },
      {
       "output_type": "stream",
       "stream": "stdout",
       "text": [
        "\n",
        "rm \"experiment3230739528.py\""
       ]
      },
      {
       "output_type": "stream",
       "stream": "stdout",
       "text": [
        "\n",
        "ssh sfop0669@arcus-b.arc.ox.ac.uk 'cd ~/experiment2; sbatch sbatch-job.sh \"experiment3230739528.py\"'\n",
        "submitted 128 calculations"
       ]
      },
      {
       "output_type": "stream",
       "stream": "stdout",
       "text": [
        "\n",
        "\n",
        "scp sbatch-job.sh sfop0669@arcus-b.arc.ox.ac.uk:~/experiment2\n",
        "scp ../bandits.py sfop0669@arcus-b.arc.ox.ac.uk:~/experiment2"
       ]
      },
      {
       "output_type": "stream",
       "stream": "stdout",
       "text": [
        "\n",
        "scp \"experiment8226013366.py\" \"sfop0669@arcus-b.arc.ox.ac.uk:~/experiment2\""
       ]
      },
      {
       "output_type": "stream",
       "stream": "stdout",
       "text": [
        "\n",
        "rm \"experiment8226013366.py\""
       ]
      },
      {
       "output_type": "stream",
       "stream": "stdout",
       "text": [
        "\n",
        "ssh sfop0669@arcus-b.arc.ox.ac.uk 'cd ~/experiment2; sbatch sbatch-job.sh \"experiment8226013366.py\"'\n",
        "submitted 128 calculations"
       ]
      },
      {
       "output_type": "stream",
       "stream": "stdout",
       "text": [
        "\n",
        "\n",
        "scp sbatch-job.sh sfop0669@arcus-b.arc.ox.ac.uk:~/experiment2\n",
        "scp ../bandits.py sfop0669@arcus-b.arc.ox.ac.uk:~/experiment2"
       ]
      },
      {
       "output_type": "stream",
       "stream": "stdout",
       "text": [
        "\n",
        "scp \"experiment2930750796.py\" \"sfop0669@arcus-b.arc.ox.ac.uk:~/experiment2\""
       ]
      },
      {
       "output_type": "stream",
       "stream": "stdout",
       "text": [
        "\n",
        "rm \"experiment2930750796.py\""
       ]
      },
      {
       "output_type": "stream",
       "stream": "stdout",
       "text": [
        "\n",
        "ssh sfop0669@arcus-b.arc.ox.ac.uk 'cd ~/experiment2; sbatch sbatch-job.sh \"experiment2930750796.py\"'\n",
        "submitted 128 calculations"
       ]
      },
      {
       "output_type": "stream",
       "stream": "stdout",
       "text": [
        "\n",
        "\n",
        "scp sbatch-job.sh sfop0669@arcus-b.arc.ox.ac.uk:~/experiment2\n",
        "scp ../bandits.py sfop0669@arcus-b.arc.ox.ac.uk:~/experiment2"
       ]
      },
      {
       "output_type": "stream",
       "stream": "stdout",
       "text": [
        "\n",
        "scp \"experiment3181165462.py\" \"sfop0669@arcus-b.arc.ox.ac.uk:~/experiment2\""
       ]
      },
      {
       "output_type": "stream",
       "stream": "stdout",
       "text": [
        "\n",
        "rm \"experiment3181165462.py\""
       ]
      },
      {
       "output_type": "stream",
       "stream": "stdout",
       "text": [
        "\n",
        "ssh sfop0669@arcus-b.arc.ox.ac.uk 'cd ~/experiment2; sbatch sbatch-job.sh \"experiment3181165462.py\"'\n",
        "submitted 128 calculations"
       ]
      },
      {
       "output_type": "stream",
       "stream": "stdout",
       "text": [
        "\n",
        "\n",
        "scp sbatch-job.sh sfop0669@arcus-b.arc.ox.ac.uk:~/experiment2\n",
        "scp ../bandits.py sfop0669@arcus-b.arc.ox.ac.uk:~/experiment2"
       ]
      },
      {
       "output_type": "stream",
       "stream": "stdout",
       "text": [
        "\n",
        "scp \"experiment9224499799.py\" \"sfop0669@arcus-b.arc.ox.ac.uk:~/experiment2\""
       ]
      },
      {
       "output_type": "stream",
       "stream": "stdout",
       "text": [
        "\n",
        "rm \"experiment9224499799.py\""
       ]
      },
      {
       "output_type": "stream",
       "stream": "stdout",
       "text": [
        "\n",
        "ssh sfop0669@arcus-b.arc.ox.ac.uk 'cd ~/experiment2; sbatch sbatch-job.sh \"experiment9224499799.py\"'\n",
        "submitted 128 calculations"
       ]
      },
      {
       "output_type": "stream",
       "stream": "stdout",
       "text": [
        "\n",
        "\n",
        "scp sbatch-job.sh sfop0669@arcus-b.arc.ox.ac.uk:~/experiment2\n",
        "scp ../bandits.py sfop0669@arcus-b.arc.ox.ac.uk:~/experiment2"
       ]
      },
      {
       "output_type": "stream",
       "stream": "stdout",
       "text": [
        "\n",
        "scp \"experiment2582220990.py\" \"sfop0669@arcus-b.arc.ox.ac.uk:~/experiment2\""
       ]
      },
      {
       "output_type": "stream",
       "stream": "stdout",
       "text": [
        "\n",
        "rm \"experiment2582220990.py\""
       ]
      },
      {
       "output_type": "stream",
       "stream": "stdout",
       "text": [
        "\n",
        "ssh sfop0669@arcus-b.arc.ox.ac.uk 'cd ~/experiment2; sbatch sbatch-job.sh \"experiment2582220990.py\"'\n",
        "submitted 128 calculations"
       ]
      },
      {
       "output_type": "stream",
       "stream": "stdout",
       "text": [
        "\n",
        "\n",
        "scp sbatch-job.sh sfop0669@arcus-b.arc.ox.ac.uk:~/experiment2\n",
        "scp ../bandits.py sfop0669@arcus-b.arc.ox.ac.uk:~/experiment2"
       ]
      },
      {
       "output_type": "stream",
       "stream": "stdout",
       "text": [
        "\n",
        "scp \"experiment4764358554.py\" \"sfop0669@arcus-b.arc.ox.ac.uk:~/experiment2\""
       ]
      },
      {
       "output_type": "stream",
       "stream": "stdout",
       "text": [
        "\n",
        "rm \"experiment4764358554.py\""
       ]
      },
      {
       "output_type": "stream",
       "stream": "stdout",
       "text": [
        "\n",
        "ssh sfop0669@arcus-b.arc.ox.ac.uk 'cd ~/experiment2; sbatch sbatch-job.sh \"experiment4764358554.py\"'\n",
        "submitted 128 calculations"
       ]
      },
      {
       "output_type": "stream",
       "stream": "stdout",
       "text": [
        "\n",
        "\n",
        "scp sbatch-job.sh sfop0669@arcus-b.arc.ox.ac.uk:~/experiment2\n",
        "scp ../bandits.py sfop0669@arcus-b.arc.ox.ac.uk:~/experiment2"
       ]
      },
      {
       "output_type": "stream",
       "stream": "stdout",
       "text": [
        "\n",
        "scp \"experiment5729501473.py\" \"sfop0669@arcus-b.arc.ox.ac.uk:~/experiment2\""
       ]
      },
      {
       "output_type": "stream",
       "stream": "stdout",
       "text": [
        "\n",
        "rm \"experiment5729501473.py\""
       ]
      },
      {
       "output_type": "stream",
       "stream": "stdout",
       "text": [
        "\n",
        "ssh sfop0669@arcus-b.arc.ox.ac.uk 'cd ~/experiment2; sbatch sbatch-job.sh \"experiment5729501473.py\"'\n",
        "submitted 128 calculations"
       ]
      },
      {
       "output_type": "stream",
       "stream": "stdout",
       "text": [
        "\n",
        "\n",
        "scp sbatch-job.sh sfop0669@arcus-b.arc.ox.ac.uk:~/experiment2\n",
        "scp ../bandits.py sfop0669@arcus-b.arc.ox.ac.uk:~/experiment2"
       ]
      },
      {
       "output_type": "stream",
       "stream": "stdout",
       "text": [
        "\n",
        "scp \"experiment9525713069.py\" \"sfop0669@arcus-b.arc.ox.ac.uk:~/experiment2\""
       ]
      },
      {
       "output_type": "stream",
       "stream": "stdout",
       "text": [
        "\n",
        "rm \"experiment9525713069.py\""
       ]
      },
      {
       "output_type": "stream",
       "stream": "stdout",
       "text": [
        "\n",
        "ssh sfop0669@arcus-b.arc.ox.ac.uk 'cd ~/experiment2; sbatch sbatch-job.sh \"experiment9525713069.py\"'\n",
        "submitted 128 calculations"
       ]
      },
      {
       "output_type": "stream",
       "stream": "stdout",
       "text": [
        "\n",
        "\n",
        "scp sbatch-job.sh sfop0669@arcus-b.arc.ox.ac.uk:~/experiment2\n",
        "scp ../bandits.py sfop0669@arcus-b.arc.ox.ac.uk:~/experiment2"
       ]
      },
      {
       "output_type": "stream",
       "stream": "stdout",
       "text": [
        "\n",
        "scp \"experiment4959879765.py\" \"sfop0669@arcus-b.arc.ox.ac.uk:~/experiment2\""
       ]
      },
      {
       "output_type": "stream",
       "stream": "stdout",
       "text": [
        "\n",
        "rm \"experiment4959879765.py\""
       ]
      },
      {
       "output_type": "stream",
       "stream": "stdout",
       "text": [
        "\n",
        "ssh sfop0669@arcus-b.arc.ox.ac.uk 'cd ~/experiment2; sbatch sbatch-job.sh \"experiment4959879765.py\"'\n",
        "submitted 128 calculations"
       ]
      },
      {
       "output_type": "stream",
       "stream": "stdout",
       "text": [
        "\n"
       ]
      }
     ],
     "prompt_number": 7
    },
    {
     "cell_type": "markdown",
     "metadata": {},
     "source": [
      "# Fetch the computation results\n",
      "\n",
      "When the computation on the cluster finishes, the results can be collected using the code below"
     ]
    },
    {
     "cell_type": "code",
     "collapsed": false,
     "input": [
      "def fetch_results(i):\n",
      "    os.system('scp \"{user}@{machine}:{datadir}/result{i}_*.pickle\" .'.format(\n",
      "              user=user, machine=machine, datadir=datadir, i=i))"
     ],
     "language": "python",
     "metadata": {},
     "outputs": [],
     "prompt_number": 13
    },
    {
     "cell_type": "code",
     "collapsed": false,
     "input": [
      "jobs"
     ],
     "language": "python",
     "metadata": {},
     "outputs": [
      {
       "metadata": {},
       "output_type": "pyout",
       "prompt_number": 11,
       "text": [
        "[8747482496,\n",
        " 6048352510,\n",
        " 9555404248,\n",
        " 1716263566,\n",
        " 5330033923,\n",
        " 3642483154,\n",
        " 7326454665,\n",
        " 6719200564,\n",
        " 3983422173,\n",
        " 4699878543,\n",
        " 7572498663,\n",
        " 2214427356,\n",
        " 1504639770,\n",
        " 8037986236,\n",
        " 650400056,\n",
        " 4452080564,\n",
        " 2526467890,\n",
        " 6951369072,\n",
        " 65602033,\n",
        " 2341985441,\n",
        " 8472570824,\n",
        " 6459620285,\n",
        " 7744819294,\n",
        " 582918161,\n",
        " 5773311644,\n",
        " 5510368890,\n",
        " 8180593027,\n",
        " 9252556431,\n",
        " 231154820,\n",
        " 5381117548,\n",
        " 1546932428,\n",
        " 1243872230]"
       ]
      }
     ],
     "prompt_number": 11
    },
    {
     "cell_type": "code",
     "collapsed": false,
     "input": [
      "for i in jobs:\n",
      "    fetch_results(i)"
     ],
     "language": "python",
     "metadata": {},
     "outputs": []
    },
    {
     "cell_type": "code",
     "collapsed": false,
     "input": [],
     "language": "python",
     "metadata": {},
     "outputs": []
    }
   ],
   "metadata": {}
  }
 ]
}