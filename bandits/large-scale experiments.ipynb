{
 "metadata": {
  "name": "",
  "signature": "sha256:de74cf80bfdc9915c6c5412bd92bcc8c5529d4042c8a6c3b030989ac07e25e04"
 },
 "nbformat": 3,
 "nbformat_minor": 0,
 "worksheets": [
  {
   "cells": [
    {
     "cell_type": "markdown",
     "metadata": {},
     "source": [
      "This notebook defines and dispatches large-scale experiments to be run on the cluster."
     ]
    },
    {
     "cell_type": "code",
     "collapsed": false,
     "input": [
      "import os\n",
      "import random\n",
      "os.chdir('experiment2/')"
     ],
     "language": "python",
     "metadata": {},
     "outputs": [],
     "prompt_number": 1
    },
    {
     "cell_type": "code",
     "collapsed": false,
     "input": [
      "# login parameters\n",
      "user = 'sfop0669'\n",
      "machine = 'arcus-b.arc.ox.ac.uk'\n",
      "subfolder = '~/experiment2'"
     ],
     "language": "python",
     "metadata": {},
     "outputs": [],
     "prompt_number": 5
    },
    {
     "cell_type": "code",
     "collapsed": false,
     "input": [
      "def submit(mus, n, cost, policy, params, N):\n",
      "    \"\"\"Submit an experiment to the cluster\"\"\"\n",
      "    i = random.randint(1, 1e10)  # random number to prevent collision\n",
      "    \n",
      "    # dump python script experiment%d.py\n",
      "    scriptname = 'experiment%d.py' % i\n",
      "    open(scriptname , 'w').write(\"\"\"\n",
      "import pickle\n",
      "import sys\n",
      "import os\n",
      "from bandits import *\n",
      "\n",
      "j = sys.argv[2]  # the id of the core job (e.g. 1-16)\n",
      "output_file = os.path.join(os.environ['DATA'], 'result{6}_%s.pickle' % j)\n",
      "result = runExperiment({0}, {1}, {2}, {3}, {4}, {5})\n",
      "pickle.dump((result, \"{4}\", \"{5}\"), open(output_file, 'w'))\n",
      "\"\"\".format(str(mus), n, cost, policy, N, params, i))\n",
      "    submit_sh = \"\"\"\n",
      "scp sbatch-job.sh {user}@{machine}:{subfolder}\n",
      "scp ../bandits.py {user}@{machine}:{subfolder}\n",
      "scp \"{scriptname}\" \"{user}@{machine}:{subfolder}\"\n",
      "rm \"{scriptname}\"\n",
      "ssh {user}@{machine} 'cd \"{subfolder}\"; sbatch sbatch-job.sh \"{scriptname}\"'\n",
      "\"\"\".format(user=user, machine=machine, subfolder=subfolder,\n",
      "           scriptname=scriptname)\n",
      "\n",
      "    # execute submit_sh to submit experiment%d.py to the cluster\n",
      "    for line in submit_sh(script_name).splitlines():\n",
      "        os.system(line)"
     ],
     "language": "python",
     "metadata": {},
     "outputs": [],
     "prompt_number": 6
    },
    {
     "cell_type": "code",
     "collapsed": false,
     "input": [
      "submit([0.6, 0.5, 0.4, 0.4], 10000, 2, 'parameterizedRegretQuery',\n",
      "       'banditpolicy=DMED, alpha=0.85', 48)"
     ],
     "language": "python",
     "metadata": {},
     "outputs": [],
     "prompt_number": 4
    },
    {
     "cell_type": "code",
     "collapsed": false,
     "input": [],
     "language": "python",
     "metadata": {},
     "outputs": []
    }
   ],
   "metadata": {}
  }
 ]
}