{
 "metadata": {
  "name": "",
  "signature": "sha256:8aae5941e5ab492eab78d353f16204f7017e06299f1ca155f6485c7f0bb3f245"
 },
 "nbformat": 3,
 "nbformat_minor": 0,
 "worksheets": [
  {
   "cells": [
    {
     "cell_type": "markdown",
     "metadata": {},
     "source": [
      "This notebook defines and dispatches large-scale experiments to be run on the cluster."
     ]
    },
    {
     "cell_type": "code",
     "collapsed": false,
     "input": [
      "import os\n",
      "os.chdir('experiment2/')"
     ],
     "language": "python",
     "metadata": {},
     "outputs": [],
     "prompt_number": 1
    },
    {
     "cell_type": "code",
     "collapsed": false,
     "input": [
      "def submit(mus, n, cost, policy, params, N):\n",
      "    open('experiment.py', 'w').write(\"\"\"\n",
      "from bandits import *\n",
      "import pickle\n",
      "\n",
      "cregret = runExperiment(%s, %d, %d, %s, %d, %s)\n",
      "pickle.dump(cregret, open('%s', 'w'))\n",
      "\"\"\" % (str(mus), n, cost, policy, N, params,\n",
      "       'cregret_' + policy + '_' + params))\n",
      "\n",
      "    # submit experiment.py to the cluster\n",
      "    os.system('./submit-job.sh')"
     ],
     "language": "python",
     "metadata": {},
     "outputs": [],
     "prompt_number": 5
    },
    {
     "cell_type": "code",
     "collapsed": false,
     "input": [
      "submit([0.6, 0.5, 0.4, 0.4], 10000, 2, 'parameterizedRegretQuery',\n",
      "       '(DMED, 0.75)', 1000)"
     ],
     "language": "python",
     "metadata": {},
     "outputs": [],
     "prompt_number": 6
    },
    {
     "cell_type": "code",
     "collapsed": false,
     "input": [
      "# todo: experiment.py name collision\n",
      "#       install scipy"
     ],
     "language": "python",
     "metadata": {},
     "outputs": []
    }
   ],
   "metadata": {}
  }
 ]
}