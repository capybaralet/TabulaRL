{
 "metadata": {
  "name": "",
  "signature": "sha256:72cbe024fa85d365523882d74f5ad136f155f091b20b4bf27b4d49844eba0e08"
 },
 "nbformat": 3,
 "nbformat_minor": 0,
 "worksheets": [
  {
   "cells": [
    {
     "cell_type": "code",
     "collapsed": false,
     "input": [
      "from bandits import *\n",
      "%matplotlib inline\n",
      "import matplotlib.pyplot as plt"
     ],
     "language": "python",
     "metadata": {},
     "outputs": [],
     "prompt_number": 1
    },
    {
     "cell_type": "code",
     "collapsed": false,
     "input": [
      "# Problem definition\n",
      "mus = [0.6, 0.5, 0.4, 0.4]\n",
      "n = 10000\n",
      "cost = 2"
     ],
     "language": "python",
     "metadata": {},
     "outputs": []
    },
    {
     "cell_type": "code",
     "collapsed": false,
     "input": [
      "regret_pRQ = runExperiment(mus, n, cost, parameterizedRegretQuery,\n",
      "                           20, banditpolicy=DMED, alpha=0.8)[1]"
     ],
     "language": "python",
     "metadata": {},
     "outputs": []
    },
    {
     "cell_type": "code",
     "collapsed": false,
     "input": [
      "regret_pRQRR = runExperiment(mus, n, cost, parameterizedRegretQuery, 20,\n",
      "                             banditpolicy=RoundRobinPolicy, alpha=0.8)[1]"
     ],
     "language": "python",
     "metadata": {},
     "outputs": []
    },
    {
     "cell_type": "code",
     "collapsed": false,
     "input": [
      "import pickle\n",
      "pickle.dump(regret_pRQ, open('regret_pRQ.pickle', 'w'))\n",
      "pickle.dump(regret_pRQRR, open('regret_pRQRR.pickle', 'w'))"
     ],
     "language": "python",
     "metadata": {},
     "outputs": []
    },
    {
     "cell_type": "code",
     "collapsed": false,
     "input": [
      "plot_list = [\n",
      "    (regret_pRQ, 'regret query + DMED', 'blue'),\n",
      "    (regret_pRQRR, 'regret query + RR', 'red'),\n",
      "]\n",
      "fig, ax = plt.subplots(1)\n",
      "rng = np.arange(n + 1)\n",
      "for cregret, label, color in plot_list:\n",
      "    avg = np.mean(cregret, axis=0)\n",
      "    std = np.std(cregret, axis=0)\n",
      "    ax.plot(rng, avg, label=label, color=color)\n",
      "    ax.fill_between(rng, avg+std, avg-std, facecolor=color, alpha=0.3)\n",
      "ax.set_title('Bernoulli bandit with arms %s, cost = %d' % (str(mus), cost))\n",
      "ax.legend(loc='upper left')\n",
      "ax.set_xlabel('time steps')\n",
      "ax.set_ylabel('average cumulative regret')\n",
      "plt.ylim(0)\n",
      "ax.grid()"
     ],
     "language": "python",
     "metadata": {},
     "outputs": []
    }
   ],
   "metadata": {}
  }
 ]
}