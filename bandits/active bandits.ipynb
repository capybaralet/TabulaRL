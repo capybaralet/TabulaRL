{
 "metadata": {
  "name": "",
  "signature": "sha256:7060d1904563ffdf1414d74fe500ed6c6671addfb0338704e8a218f7499b2956"
 },
 "nbformat": 3,
 "nbformat_minor": 0,
 "worksheets": [
  {
   "cells": [
    {
     "cell_type": "code",
     "collapsed": false,
     "input": [
      "from bandits import *\n",
      "%matplotlib inline\n",
      "import matplotlib.pyplot as plt"
     ],
     "language": "python",
     "metadata": {},
     "outputs": [],
     "prompt_number": 8
    },
    {
     "cell_type": "code",
     "collapsed": false,
     "input": [
      "# Problem definition\n",
      "mus = [0.6, 0.5, 0.4, 0.4]\n",
      "n = 10000\n",
      "cost = 2"
     ],
     "language": "python",
     "metadata": {},
     "outputs": [],
     "prompt_number": 9
    },
    {
     "cell_type": "code",
     "collapsed": false,
     "input": [
      "# some test code\n",
      "T = [13, 2, 4, 9]\n",
      "s = [8, 0, 1, 3]\n",
      "\n",
      "def mu_hats(T, s):\n",
      "    return np.add(s, 1) / np.add(T, 2).astype(float)\n",
      "\n",
      "print(mu_hats(T, s))\n",
      "print(mu_hats([13, 20, 4, 9], [8, 18/4. + 3, 1, 3]))\n",
      "\n",
      "querySteps3(T, s)"
     ],
     "language": "python",
     "metadata": {},
     "outputs": [
      {
       "output_type": "stream",
       "stream": "stdout",
       "text": [
        "[ 0.6         0.25        0.33333333  0.36363636]\n",
        "[ 0.6         0.38636364  0.33333333  0.36363636]\n"
       ]
      },
      {
       "metadata": {},
       "output_type": "pyout",
       "prompt_number": 10,
       "text": [
        "inf"
       ]
      }
     ],
     "prompt_number": 10
    },
    {
     "cell_type": "code",
     "collapsed": false,
     "input": [
      "regret_pRQ = runExperiment(mus, n, cost, parameterizedRegretQuery,\n",
      "                           20, [DMED, 0.75])"
     ],
     "language": "python",
     "metadata": {},
     "outputs": []
    },
    {
     "cell_type": "code",
     "collapsed": false,
     "input": [
      "regret_pRQRR = runExperiment(mus, n, cost, parameterizedRegretQuery, 20,\n",
      "                             [RoundRobinPolicy, 0.75])"
     ],
     "language": "python",
     "metadata": {},
     "outputs": []
    },
    {
     "cell_type": "code",
     "collapsed": false,
     "input": [
      "import pickle\n",
      "pickle.dump(regret_pRQ, open('regret_pRQ.pickle', 'w'))\n",
      "pickle.dump(regret_pRQRR, open('regret_pRQRR.pickle', 'w'))"
     ],
     "language": "python",
     "metadata": {},
     "outputs": []
    },
    {
     "cell_type": "code",
     "collapsed": false,
     "input": [
      "plot_list = [\n",
      "    (regret_pRQ, 'regret query + DMED', 'blue'),\n",
      "    (regret_pRQRR, 'regret query + RR', 'red'),\n",
      "]\n",
      "fig, ax = plt.subplots(1)\n",
      "rng = np.arange(n + 1)\n",
      "for cregret, label, color in plot_list:\n",
      "    avg = np.mean(cregret, axis=0)\n",
      "    std = np.std(cregret, axis=0)\n",
      "    ax.plot(rng, avg, label=label, color=color)\n",
      "    ax.fill_between(rng, avg+std, avg-std, facecolor=color, alpha=0.3)\n",
      "ax.set_title('Bernoulli bandit with arms %s, cost = %d' % (str(mus), cost))\n",
      "ax.legend(loc='upper left')\n",
      "ax.set_xlabel('time steps')\n",
      "ax.set_ylabel('average cumulative regret')\n",
      "plt.ylim(0)\n",
      "ax.grid()"
     ],
     "language": "python",
     "metadata": {},
     "outputs": []
    }
   ],
   "metadata": {}
  }
 ]
}